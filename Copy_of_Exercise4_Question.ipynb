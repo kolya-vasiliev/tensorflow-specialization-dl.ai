{
  "nbformat": 4,
  "nbformat_minor": 0,
  "metadata": {
    "colab": {
      "name": "Copy of Exercise4-Question.ipynb",
      "version": "0.3.2",
      "provenance": []
    },
    "kernelspec": {
      "name": "python3",
      "display_name": "Python 3"
    }
  },
  "cells": [
    {
      "cell_type": "markdown",
      "metadata": {
        "id": "UncprnB0ymAE",
        "colab_type": "text"
      },
      "source": [
        "Below is code with a link to a happy or sad dataset which contains 80 images, 40 happy and 40 sad. \n",
        "Create a convolutional neural network that trains to 100% accuracy on these images,  which cancels training upon hitting training accuracy of >.999\n",
        "\n",
        "Hint -- it will work best with 3 convolutional layers."
      ]
    },
    {
      "cell_type": "code",
      "metadata": {
        "id": "7Vti6p3PxmpS",
        "colab_type": "code",
        "colab": {
          "base_uri": "https://localhost:8080/",
          "height": 234
        },
        "outputId": "7d363f9d-284f-44a7-8782-2c2c95991ddb"
      },
      "source": [
        "import tensorflow as tf\n",
        "import os\n",
        "import zipfile\n",
        "\n",
        "\n",
        "DESIRED_ACCURACY = 0.999\n",
        "\n",
        "!wget --no-check-certificate \\\n",
        "    \"https://storage.googleapis.com/laurencemoroney-blog.appspot.com/happy-or-sad.zip\" \\\n",
        "    -O \"/tmp/happy-or-sad.zip\"\n",
        "\n",
        "zip_ref = zipfile.ZipFile(\"/tmp/happy-or-sad.zip\", 'r')\n",
        "zip_ref.extractall(\"/tmp/h-or-s\")\n",
        "zip_ref.close()\n",
        "\n",
        "class myCallback(tf.keras.callbacks.Callback):\n",
        "  def on_epoch_end(self, epoch, logs={}):\n",
        "    if(logs.get('acc')>DESIRED_ACCURACY):\n",
        "      print(\"\\nReached \" + str(DESIRED_ACCURACY*100) + \"% accuracy so cancelling training!\")\n",
        "      self.model.stop_training = True\n",
        "\n",
        "callbacks = myCallback()"
      ],
      "execution_count": 1,
      "outputs": [
        {
          "output_type": "stream",
          "text": [
            "--2019-07-01 13:32:51--  https://storage.googleapis.com/laurencemoroney-blog.appspot.com/happy-or-sad.zip\n",
            "Resolving storage.googleapis.com (storage.googleapis.com)... 74.125.20.128, 2607:f8b0:400e:c03::80\n",
            "Connecting to storage.googleapis.com (storage.googleapis.com)|74.125.20.128|:443... connected.\n",
            "HTTP request sent, awaiting response... 200 OK\n",
            "Length: 2670333 (2.5M) [application/zip]\n",
            "Saving to: ‘/tmp/happy-or-sad.zip’\n",
            "\n",
            "\r/tmp/happy-or-sad.z   0%[                    ]       0  --.-KB/s               \r/tmp/happy-or-sad.z 100%[===================>]   2.55M  --.-KB/s    in 0.01s   \n",
            "\n",
            "2019-07-01 13:32:52 (173 MB/s) - ‘/tmp/happy-or-sad.zip’ saved [2670333/2670333]\n",
            "\n"
          ],
          "name": "stdout"
        }
      ]
    },
    {
      "cell_type": "code",
      "metadata": {
        "id": "6DLGbXXI1j_V",
        "colab_type": "code",
        "colab": {
          "base_uri": "https://localhost:8080/",
          "height": 628
        },
        "outputId": "68ba53f6-900e-4b4a-bcd6-23ebc3a660b0"
      },
      "source": [
        "# This Code Block should Define and Compile the Model\n",
        "model = tf.keras.models.Sequential([\n",
        "# Note the input shape is the desired size of the image 300x300 with 3 bytes color\n",
        "    # This is the first convolution\n",
        "    tf.keras.layers.Conv2D(16, (3,3), activation='relu', input_shape=(150, 150, 3)),\n",
        "    tf.keras.layers.MaxPooling2D(2, 2),\n",
        "    # The second convolution\n",
        "    tf.keras.layers.Conv2D(32, (3,3), activation='relu'),\n",
        "    tf.keras.layers.MaxPooling2D(2,2),\n",
        "    # The third convolution\n",
        "    tf.keras.layers.Conv2D(64, (3,3), activation='relu'),\n",
        "    tf.keras.layers.MaxPooling2D(2,2),\n",
        "    # Flatten the results to feed into a DNN\n",
        "    tf.keras.layers.Flatten(),\n",
        "    # 512 neuron hidden layer\n",
        "    tf.keras.layers.Dense(512, activation='relu'),\n",
        "    # Only 1 output neuron. It will contain a value from 0-1 where 0 for 1 class ('horses') and 1 for the other ('humans')\n",
        "    tf.keras.layers.Dense(1, activation='sigmoid')\n",
        "])\n",
        "\n",
        "from tensorflow.keras.optimizers import RMSprop\n",
        "\n",
        "model.compile(loss='binary_crossentropy',\n",
        "              optimizer=RMSprop(lr=0.001),\n",
        "              metrics=['acc'])\n",
        "\n",
        "model.summary()"
      ],
      "execution_count": 2,
      "outputs": [
        {
          "output_type": "stream",
          "text": [
            "WARNING: Logging before flag parsing goes to stderr.\n",
            "W0701 13:32:53.410257 140653054863232 deprecation.py:506] From /usr/local/lib/python3.6/dist-packages/tensorflow/python/ops/init_ops.py:1251: calling VarianceScaling.__init__ (from tensorflow.python.ops.init_ops) with dtype is deprecated and will be removed in a future version.\n",
            "Instructions for updating:\n",
            "Call initializer instance with the dtype argument instead of passing it to the constructor\n",
            "W0701 13:32:53.605217 140653054863232 deprecation.py:323] From /usr/local/lib/python3.6/dist-packages/tensorflow/python/ops/nn_impl.py:180: add_dispatch_support.<locals>.wrapper (from tensorflow.python.ops.array_ops) is deprecated and will be removed in a future version.\n",
            "Instructions for updating:\n",
            "Use tf.where in 2.0, which has the same broadcast rule as np.where\n"
          ],
          "name": "stderr"
        },
        {
          "output_type": "stream",
          "text": [
            "Model: \"sequential\"\n",
            "_________________________________________________________________\n",
            "Layer (type)                 Output Shape              Param #   \n",
            "=================================================================\n",
            "conv2d (Conv2D)              (None, 148, 148, 16)      448       \n",
            "_________________________________________________________________\n",
            "max_pooling2d (MaxPooling2D) (None, 74, 74, 16)        0         \n",
            "_________________________________________________________________\n",
            "conv2d_1 (Conv2D)            (None, 72, 72, 32)        4640      \n",
            "_________________________________________________________________\n",
            "max_pooling2d_1 (MaxPooling2 (None, 36, 36, 32)        0         \n",
            "_________________________________________________________________\n",
            "conv2d_2 (Conv2D)            (None, 34, 34, 64)        18496     \n",
            "_________________________________________________________________\n",
            "max_pooling2d_2 (MaxPooling2 (None, 17, 17, 64)        0         \n",
            "_________________________________________________________________\n",
            "flatten (Flatten)            (None, 18496)             0         \n",
            "_________________________________________________________________\n",
            "dense (Dense)                (None, 512)               9470464   \n",
            "_________________________________________________________________\n",
            "dense_1 (Dense)              (None, 1)                 513       \n",
            "=================================================================\n",
            "Total params: 9,494,561\n",
            "Trainable params: 9,494,561\n",
            "Non-trainable params: 0\n",
            "_________________________________________________________________\n"
          ],
          "name": "stdout"
        }
      ]
    },
    {
      "cell_type": "code",
      "metadata": {
        "id": "4Ap9fUJE1vVu",
        "colab_type": "code",
        "colab": {
          "base_uri": "https://localhost:8080/",
          "height": 35
        },
        "outputId": "52ca41da-898f-46f6-b86f-0e3a2b5ffd8c"
      },
      "source": [
        "# This code block should create an instance of an ImageDataGenerator called train_datagen \n",
        "# And a train_generator by calling train_datagen.flow_from_directory\n",
        "\n",
        "from tensorflow.keras.preprocessing.image import ImageDataGenerator\n",
        "\n",
        "train_datagen = ImageDataGenerator(rescale=1/255)\n",
        "\n",
        "train_generator = train_datagen.flow_from_directory(\n",
        "        '/tmp/h-or-s/', \n",
        "        target_size=(150, 150), \n",
        "        batch_size=20,\n",
        "        class_mode='binary')\n",
        "\n",
        "# Expected output: 'Found 80 images belonging to 2 classes'"
      ],
      "execution_count": 3,
      "outputs": [
        {
          "output_type": "stream",
          "text": [
            "Found 80 images belonging to 2 classes.\n"
          ],
          "name": "stdout"
        }
      ]
    },
    {
      "cell_type": "code",
      "metadata": {
        "id": "48dLm13U1-Le",
        "colab_type": "code",
        "colab": {
          "base_uri": "https://localhost:8080/",
          "height": 395
        },
        "outputId": "eb540ef0-3a09-4be0-966b-2f0c13f46306"
      },
      "source": [
        "# This code block should call model.fit_generator and train for\n",
        "# a number of epochs. \n",
        "history = model.fit_generator(\n",
        "      train_generator,\n",
        "      steps_per_epoch=4,  \n",
        "      epochs=15,\n",
        "      verbose=1, \n",
        "      callbacks=[callbacks])\n",
        "    \n",
        "# Expected output: \"Reached 99.9% accuracy so cancelling training!\"\""
      ],
      "execution_count": 4,
      "outputs": [
        {
          "output_type": "stream",
          "text": [
            "Epoch 1/15\n",
            "4/4 [==============================] - 3s 704ms/step - loss: 5.7320 - acc: 0.4500\n",
            "Epoch 2/15\n",
            "4/4 [==============================] - 2s 492ms/step - loss: 0.6707 - acc: 0.5750\n",
            "Epoch 3/15\n",
            "4/4 [==============================] - 2s 490ms/step - loss: 0.5883 - acc: 0.7250\n",
            "Epoch 4/15\n",
            "4/4 [==============================] - 2s 490ms/step - loss: 0.3537 - acc: 0.8750\n",
            "Epoch 5/15\n",
            "4/4 [==============================] - 2s 497ms/step - loss: 0.3303 - acc: 0.9000\n",
            "Epoch 6/15\n",
            "4/4 [==============================] - 2s 493ms/step - loss: 0.2513 - acc: 0.9000\n",
            "Epoch 7/15\n",
            "4/4 [==============================] - 2s 491ms/step - loss: 0.0934 - acc: 0.9875\n",
            "Epoch 8/15\n",
            "4/4 [==============================] - 2s 494ms/step - loss: 0.1135 - acc: 0.9375\n",
            "Epoch 9/15\n",
            "3/4 [=====================>........] - ETA: 0s - loss: 0.0421 - acc: 1.0000\n",
            "Reached 99.9% accuracy so cancelling training!\n",
            "4/4 [==============================] - 2s 492ms/step - loss: 0.0448 - acc: 1.0000\n"
          ],
          "name": "stdout"
        }
      ]
    },
    {
      "cell_type": "code",
      "metadata": {
        "id": "otiQKryynLCx",
        "colab_type": "code",
        "colab": {
          "base_uri": "https://localhost:8080/",
          "height": 55
        },
        "outputId": "b9461d65-4ba5-44c5-a719-ad35759405c9"
      },
      "source": [
        "train_horse_names = os.listdir(\"/tmp/h-or-s/sad\")\n",
        "print(train_horse_names[:10])"
      ],
      "execution_count": 4,
      "outputs": [
        {
          "output_type": "stream",
          "text": [
            "['sad1-12.png', 'sad2-18.png', 'sad2-02.png', 'sad1-06.png', 'sad1-11.png', 'sad1-13.png', 'sad2-14.png', 'sad2-12.png', 'sad2-10.png', 'sad2-05.png']\n"
          ],
          "name": "stdout"
        }
      ]
    },
    {
      "cell_type": "code",
      "metadata": {
        "id": "fOZ0wpHqnXzS",
        "colab_type": "code",
        "colab": {
          "base_uri": "https://localhost:8080/",
          "height": 35
        },
        "outputId": "790458ef-4759-46f0-9805-572f91110986"
      },
      "source": [
        "from PIL import Image\n",
        "jpgfile = Image. open(\"/tmp/h-or-s/sad/sad2-18.png\")\n",
        "print(jpgfile. size, jpgfile. format)"
      ],
      "execution_count": 7,
      "outputs": [
        {
          "output_type": "stream",
          "text": [
            "(150, 150) PNG\n"
          ],
          "name": "stdout"
        }
      ]
    },
    {
      "cell_type": "code",
      "metadata": {
        "id": "lZGuSgrxnt9A",
        "colab_type": "code",
        "colab": {
          "base_uri": "https://localhost:8080/",
          "height": 269
        },
        "outputId": "551d79d0-1ea7-4e41-f3e0-7a100b257747"
      },
      "source": [
        "%matplotlib inline\n",
        "\n",
        "import matplotlib.pyplot as plt\n",
        "import matplotlib.image as mpimg\n",
        "\n",
        "img = mpimg.imread(\"/tmp/h-or-s/sad/sad2-18.png\")\n",
        "plt.imshow(img)\n",
        "\n",
        "plt.show()"
      ],
      "execution_count": 8,
      "outputs": [
        {
          "output_type": "display_data",
          "data": {
            "image/png": "[encoded data removed]",
            "text/plain": [
              "<Figure size 432x288 with 1 Axes>"
            ]
          },
          "metadata": {
            "tags": []
          }
        }
      ]
    },
    {
      "cell_type": "code",
      "metadata": {
        "id": "70VJbNKRpEp7",
        "colab_type": "code",
        "colab": {}
      },
      "source": [
        ""
      ],
      "execution_count": 0,
      "outputs": []
    }
  ]
}